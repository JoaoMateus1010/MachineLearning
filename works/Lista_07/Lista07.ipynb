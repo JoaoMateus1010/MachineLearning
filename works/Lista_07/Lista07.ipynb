{
  "nbformat": 4,
  "nbformat_minor": 0,
  "metadata": {
    "colab": {
      "name": "Lista07.ipynb",
      "version": "0.3.2",
      "provenance": [],
      "include_colab_link": true
    },
    "kernelspec": {
      "name": "python3",
      "display_name": "Python 3"
    }
  },
  "cells": [
    {
      "cell_type": "markdown",
      "metadata": {
        "id": "view-in-github",
        "colab_type": "text"
      },
      "source": [
        "<a href=\"https://colab.research.google.com/github/JoaoMateus1010/MachineLearning/blob/master/works/Lista_07/Lista07.ipynb\" target=\"_parent\"><img src=\"https://colab.research.google.com/assets/colab-badge.svg\" alt=\"Open In Colab\"/></a>"
      ]
    },
    {
      "metadata": {
        "id": "ulwuyun2jmjU",
        "colab_type": "text"
      },
      "cell_type": "markdown",
      "source": [
        "# Lista 07 - Wisconsin Diagnostic Breast Cancer (WDBC)\n",
        "### **Nome: João Mateus Dias do Carmo**\n",
        "### **Curso:** Engenharia de Computação\n",
        "#### **Matrícula:** 390187"
      ]
    },
    {
      "metadata": {
        "id": "Sen-BcDwkbkQ",
        "colab_type": "text"
      },
      "cell_type": "markdown",
      "source": [
        "#### *Importações*"
      ]
    },
    {
      "metadata": {
        "id": "G3va7Rcskw7H",
        "colab_type": "code",
        "colab": {}
      },
      "cell_type": "code",
      "source": [
        "import numpy as np\n",
        "import pandas as pd\n",
        "import sklearn as skl"
      ],
      "execution_count": 0,
      "outputs": []
    },
    {
      "metadata": {
        "id": "vif78wxhkO0S",
        "colab_type": "text"
      },
      "cell_type": "markdown",
      "source": [
        "#### *Lendo Dataframe*"
      ]
    },
    {
      "metadata": {
        "id": "8jpIw1t_k7D6",
        "colab_type": "code",
        "colab": {}
      },
      "cell_type": "code",
      "source": [
        "Dataframe = pd.read_csv(\"https://archive.ics.uci.edu/ml/machine-learning-databases/breast-cancer-wisconsin/wdbc.data\")"
      ],
      "execution_count": 0,
      "outputs": []
    },
    {
      "metadata": {
        "id": "B9Hxcp8JlPyz",
        "colab_type": "text"
      },
      "cell_type": "markdown",
      "source": [
        "### *Analisando os Dados*"
      ]
    },
    {
      "metadata": {
        "id": "_fs01o_HmWwx",
        "colab_type": "code",
        "colab": {
          "base_uri": "https://localhost:8080/",
          "height": 253
        },
        "outputId": "6aecc67f-fe02-4ade-fd41-05a157df2f42"
      },
      "cell_type": "code",
      "source": [
        "Dataframe.head()"
      ],
      "execution_count": 11,
      "outputs": [
        {
          "output_type": "execute_result",
          "data": {
            "text/html": [
              "<div>\n",
              "<style scoped>\n",
              "    .dataframe tbody tr th:only-of-type {\n",
              "        vertical-align: middle;\n",
              "    }\n",
              "\n",
              "    .dataframe tbody tr th {\n",
              "        vertical-align: top;\n",
              "    }\n",
              "\n",
              "    .dataframe thead th {\n",
              "        text-align: right;\n",
              "    }\n",
              "</style>\n",
              "<table border=\"1\" class=\"dataframe\">\n",
              "  <thead>\n",
              "    <tr style=\"text-align: right;\">\n",
              "      <th></th>\n",
              "      <th>842302</th>\n",
              "      <th>M</th>\n",
              "      <th>17.99</th>\n",
              "      <th>10.38</th>\n",
              "      <th>122.8</th>\n",
              "      <th>1001</th>\n",
              "      <th>0.1184</th>\n",
              "      <th>0.2776</th>\n",
              "      <th>0.3001</th>\n",
              "      <th>0.1471</th>\n",
              "      <th>...</th>\n",
              "      <th>25.38</th>\n",
              "      <th>17.33</th>\n",
              "      <th>184.6</th>\n",
              "      <th>2019</th>\n",
              "      <th>0.1622</th>\n",
              "      <th>0.6656</th>\n",
              "      <th>0.7119</th>\n",
              "      <th>0.2654</th>\n",
              "      <th>0.4601</th>\n",
              "      <th>0.1189</th>\n",
              "    </tr>\n",
              "  </thead>\n",
              "  <tbody>\n",
              "    <tr>\n",
              "      <th>0</th>\n",
              "      <td>842517</td>\n",
              "      <td>M</td>\n",
              "      <td>20.57</td>\n",
              "      <td>17.77</td>\n",
              "      <td>132.90</td>\n",
              "      <td>1326.0</td>\n",
              "      <td>0.08474</td>\n",
              "      <td>0.07864</td>\n",
              "      <td>0.0869</td>\n",
              "      <td>0.07017</td>\n",
              "      <td>...</td>\n",
              "      <td>24.99</td>\n",
              "      <td>23.41</td>\n",
              "      <td>158.80</td>\n",
              "      <td>1956.0</td>\n",
              "      <td>0.1238</td>\n",
              "      <td>0.1866</td>\n",
              "      <td>0.2416</td>\n",
              "      <td>0.1860</td>\n",
              "      <td>0.2750</td>\n",
              "      <td>0.08902</td>\n",
              "    </tr>\n",
              "    <tr>\n",
              "      <th>1</th>\n",
              "      <td>84300903</td>\n",
              "      <td>M</td>\n",
              "      <td>19.69</td>\n",
              "      <td>21.25</td>\n",
              "      <td>130.00</td>\n",
              "      <td>1203.0</td>\n",
              "      <td>0.10960</td>\n",
              "      <td>0.15990</td>\n",
              "      <td>0.1974</td>\n",
              "      <td>0.12790</td>\n",
              "      <td>...</td>\n",
              "      <td>23.57</td>\n",
              "      <td>25.53</td>\n",
              "      <td>152.50</td>\n",
              "      <td>1709.0</td>\n",
              "      <td>0.1444</td>\n",
              "      <td>0.4245</td>\n",
              "      <td>0.4504</td>\n",
              "      <td>0.2430</td>\n",
              "      <td>0.3613</td>\n",
              "      <td>0.08758</td>\n",
              "    </tr>\n",
              "    <tr>\n",
              "      <th>2</th>\n",
              "      <td>84348301</td>\n",
              "      <td>M</td>\n",
              "      <td>11.42</td>\n",
              "      <td>20.38</td>\n",
              "      <td>77.58</td>\n",
              "      <td>386.1</td>\n",
              "      <td>0.14250</td>\n",
              "      <td>0.28390</td>\n",
              "      <td>0.2414</td>\n",
              "      <td>0.10520</td>\n",
              "      <td>...</td>\n",
              "      <td>14.91</td>\n",
              "      <td>26.50</td>\n",
              "      <td>98.87</td>\n",
              "      <td>567.7</td>\n",
              "      <td>0.2098</td>\n",
              "      <td>0.8663</td>\n",
              "      <td>0.6869</td>\n",
              "      <td>0.2575</td>\n",
              "      <td>0.6638</td>\n",
              "      <td>0.17300</td>\n",
              "    </tr>\n",
              "    <tr>\n",
              "      <th>3</th>\n",
              "      <td>84358402</td>\n",
              "      <td>M</td>\n",
              "      <td>20.29</td>\n",
              "      <td>14.34</td>\n",
              "      <td>135.10</td>\n",
              "      <td>1297.0</td>\n",
              "      <td>0.10030</td>\n",
              "      <td>0.13280</td>\n",
              "      <td>0.1980</td>\n",
              "      <td>0.10430</td>\n",
              "      <td>...</td>\n",
              "      <td>22.54</td>\n",
              "      <td>16.67</td>\n",
              "      <td>152.20</td>\n",
              "      <td>1575.0</td>\n",
              "      <td>0.1374</td>\n",
              "      <td>0.2050</td>\n",
              "      <td>0.4000</td>\n",
              "      <td>0.1625</td>\n",
              "      <td>0.2364</td>\n",
              "      <td>0.07678</td>\n",
              "    </tr>\n",
              "    <tr>\n",
              "      <th>4</th>\n",
              "      <td>843786</td>\n",
              "      <td>M</td>\n",
              "      <td>12.45</td>\n",
              "      <td>15.70</td>\n",
              "      <td>82.57</td>\n",
              "      <td>477.1</td>\n",
              "      <td>0.12780</td>\n",
              "      <td>0.17000</td>\n",
              "      <td>0.1578</td>\n",
              "      <td>0.08089</td>\n",
              "      <td>...</td>\n",
              "      <td>15.47</td>\n",
              "      <td>23.75</td>\n",
              "      <td>103.40</td>\n",
              "      <td>741.6</td>\n",
              "      <td>0.1791</td>\n",
              "      <td>0.5249</td>\n",
              "      <td>0.5355</td>\n",
              "      <td>0.1741</td>\n",
              "      <td>0.3985</td>\n",
              "      <td>0.12440</td>\n",
              "    </tr>\n",
              "  </tbody>\n",
              "</table>\n",
              "<p>5 rows × 32 columns</p>\n",
              "</div>"
            ],
            "text/plain": [
              "     842302  M  17.99  10.38   122.8    1001   0.1184   0.2776  0.3001  \\\n",
              "0    842517  M  20.57  17.77  132.90  1326.0  0.08474  0.07864  0.0869   \n",
              "1  84300903  M  19.69  21.25  130.00  1203.0  0.10960  0.15990  0.1974   \n",
              "2  84348301  M  11.42  20.38   77.58   386.1  0.14250  0.28390  0.2414   \n",
              "3  84358402  M  20.29  14.34  135.10  1297.0  0.10030  0.13280  0.1980   \n",
              "4    843786  M  12.45  15.70   82.57   477.1  0.12780  0.17000  0.1578   \n",
              "\n",
              "    0.1471  ...  25.38  17.33   184.6    2019  0.1622  0.6656  0.7119  0.2654  \\\n",
              "0  0.07017  ...  24.99  23.41  158.80  1956.0  0.1238  0.1866  0.2416  0.1860   \n",
              "1  0.12790  ...  23.57  25.53  152.50  1709.0  0.1444  0.4245  0.4504  0.2430   \n",
              "2  0.10520  ...  14.91  26.50   98.87   567.7  0.2098  0.8663  0.6869  0.2575   \n",
              "3  0.10430  ...  22.54  16.67  152.20  1575.0  0.1374  0.2050  0.4000  0.1625   \n",
              "4  0.08089  ...  15.47  23.75  103.40   741.6  0.1791  0.5249  0.5355  0.1741   \n",
              "\n",
              "   0.4601   0.1189  \n",
              "0  0.2750  0.08902  \n",
              "1  0.3613  0.08758  \n",
              "2  0.6638  0.17300  \n",
              "3  0.2364  0.07678  \n",
              "4  0.3985  0.12440  \n",
              "\n",
              "[5 rows x 32 columns]"
            ]
          },
          "metadata": {
            "tags": []
          },
          "execution_count": 11
        }
      ]
    },
    {
      "metadata": {
        "id": "_GzUMXc6lZs4",
        "colab_type": "code",
        "colab": {
          "base_uri": "https://localhost:8080/",
          "height": 646
        },
        "outputId": "dce4379d-5d0f-426a-8a0a-22ebb481c240"
      },
      "cell_type": "code",
      "source": [
        "Dataframe.info()"
      ],
      "execution_count": 6,
      "outputs": [
        {
          "output_type": "stream",
          "text": [
            "<class 'pandas.core.frame.DataFrame'>\n",
            "RangeIndex: 568 entries, 0 to 567\n",
            "Data columns (total 32 columns):\n",
            "842302      568 non-null int64\n",
            "M           568 non-null object\n",
            "17.99       568 non-null float64\n",
            "10.38       568 non-null float64\n",
            "122.8       568 non-null float64\n",
            "1001        568 non-null float64\n",
            "0.1184      568 non-null float64\n",
            "0.2776      568 non-null float64\n",
            "0.3001      568 non-null float64\n",
            "0.1471      568 non-null float64\n",
            "0.2419      568 non-null float64\n",
            "0.07871     568 non-null float64\n",
            "1.095       568 non-null float64\n",
            "0.9053      568 non-null float64\n",
            "8.589       568 non-null float64\n",
            "153.4       568 non-null float64\n",
            "0.006399    568 non-null float64\n",
            "0.04904     568 non-null float64\n",
            "0.05373     568 non-null float64\n",
            "0.01587     568 non-null float64\n",
            "0.03003     568 non-null float64\n",
            "0.006193    568 non-null float64\n",
            "25.38       568 non-null float64\n",
            "17.33       568 non-null float64\n",
            "184.6       568 non-null float64\n",
            "2019        568 non-null float64\n",
            "0.1622      568 non-null float64\n",
            "0.6656      568 non-null float64\n",
            "0.7119      568 non-null float64\n",
            "0.2654      568 non-null float64\n",
            "0.4601      568 non-null float64\n",
            "0.1189      568 non-null float64\n",
            "dtypes: float64(30), int64(1), object(1)\n",
            "memory usage: 142.1+ KB\n"
          ],
          "name": "stdout"
        }
      ]
    },
    {
      "metadata": {
        "id": "Kr43XrrPl9lb",
        "colab_type": "code",
        "colab": {
          "base_uri": "https://localhost:8080/",
          "height": 578
        },
        "outputId": "ef15b5c7-b08e-42da-83f9-16545eb41ee7"
      },
      "cell_type": "code",
      "source": [
        "Dataframe.isna().sum()"
      ],
      "execution_count": 7,
      "outputs": [
        {
          "output_type": "execute_result",
          "data": {
            "text/plain": [
              "842302      0\n",
              "M           0\n",
              "17.99       0\n",
              "10.38       0\n",
              "122.8       0\n",
              "1001        0\n",
              "0.1184      0\n",
              "0.2776      0\n",
              "0.3001      0\n",
              "0.1471      0\n",
              "0.2419      0\n",
              "0.07871     0\n",
              "1.095       0\n",
              "0.9053      0\n",
              "8.589       0\n",
              "153.4       0\n",
              "0.006399    0\n",
              "0.04904     0\n",
              "0.05373     0\n",
              "0.01587     0\n",
              "0.03003     0\n",
              "0.006193    0\n",
              "25.38       0\n",
              "17.33       0\n",
              "184.6       0\n",
              "2019        0\n",
              "0.1622      0\n",
              "0.6656      0\n",
              "0.7119      0\n",
              "0.2654      0\n",
              "0.4601      0\n",
              "0.1189      0\n",
              "dtype: int64"
            ]
          },
          "metadata": {
            "tags": []
          },
          "execution_count": 7
        }
      ]
    },
    {
      "metadata": {
        "id": "2a9W0D_wmBdt",
        "colab_type": "code",
        "colab": {}
      },
      "cell_type": "code",
      "source": [
        ""
      ],
      "execution_count": 0,
      "outputs": []
    }
  ]
}